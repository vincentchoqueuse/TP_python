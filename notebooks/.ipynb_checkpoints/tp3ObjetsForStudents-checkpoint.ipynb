{
 "cells": [
  {
   "cell_type": "markdown",
   "metadata": {
    "slideshow": {
     "slide_type": "slide"
    }
   },
   "source": [
    "# TP3 : **P**rogrammation **O**rientée **O**bjet"
   ]
  },
  {
   "cell_type": "markdown",
   "metadata": {},
   "source": [
    "Dans ce chapitre, nous allons présenter la notion d'**Objet** en Python.\n",
    "<p></p>\n",
    "L'**O**rienté **Objet** est une véritable philosophie et Python est assez différent des autres langages en termes d'approche.\n",
    "\n",
    "Dans ce TP, nous allons expliquer les mécanismes de la **P**rogrammation **O**rientée **O**bjet (**POO**) et créer des : <ul><li>**classes**,</li><li>**attributs**,</li><li>**méthodes**.</li> </ul> \n",
    "\n",
    "D'un point de vue pratique, un **objet** permet de représenter un concept, une idée ou toute entité du monde physique, et donc généralement des données plus complexes qu'un nombre, qu'une chaîne de caractères, ou qu'une liste... Cet **objet** peut être assimilé en une **variable** (une variable est un objet) pouvant contenir des **fonctions** et/ou d'autres **variables**.\n",
    "\n",
    "En **POO**, on nommera (*vocabulaire développeurs*) :\n",
    "- **méthodes**, les **fonctions** définies dans un **objet**, \n",
    "- **attributs**, les **variables** définies dans un **objet**.\n",
    "\n",
    "En Python, il est possible de se passer de la philosophie de l'**O**rienté **Objet** c'est exactement ce que nous avons fait dans la première partie de cette formation. Pourtant, le langage Python est totalement orienté **objet**, alors retenez surtout que :\n",
    "<p></p>**EN PYTHON, TOUT EST OBJET**<p></p>\n",
    "Ainsi lorsque qu'en Python vous utiliser une simple **variable**, une **fonction**, un **module**, ..., il est toujours question d'un **objet** qui se cache derrière."
   ]
  },
  {
   "cell_type": "markdown",
   "metadata": {},
   "source": [
    "# Partie 1 : Utilisation des objets Python.\n",
    "\n",
    "** Indication **: Pour avoir des informations sur l'ensemble des attributs et des méthodes d'une classe, il est possible de lancer la commande `help(classe)`\n",
    "\n",
    "\n"
   ]
  },
  {
   "cell_type": "code",
   "execution_count": null,
   "metadata": {
    "collapsed": true
   },
   "outputs": [],
   "source": [
    "help(float)"
   ]
  },
  {
   "cell_type": "markdown",
   "metadata": {},
   "source": [
    "Une classe peut contenir:\n",
    "* des attributs,\n",
    "* des méthodes classiques (par exemple: `conjugate`),\n",
    "* des méthodes spéciales encapsulées par des deux `underscore` (par exemple: `__repr__`,`__ne__`)."
   ]
  },
  {
   "cell_type": "markdown",
   "metadata": {},
   "source": [
    "## Avant Propos\n",
    "\n",
    "### Creation d'un objet\n",
    "\n",
    ">  mon_object = Objet(valeur)\n",
    "\n",
    "Par exemple, pour créer un objet de type float, il est possible d'utiliser la syntaxe\n"
   ]
  },
  {
   "cell_type": "code",
   "execution_count": null,
   "metadata": {
    "collapsed": true
   },
   "outputs": [],
   "source": [
    "nombre = float(5.5)\n",
    "print(type(nombre))"
   ]
  },
  {
   "cell_type": "markdown",
   "metadata": {},
   "source": [
    "Remarquons que Python reconnaît par son ***typage dynamique*** automatiquement certains types d'objet. Par exemple, la création d'un float peut également s'obtenir d'une manière plus conscise via la syntaxe"
   ]
  },
  {
   "cell_type": "code",
   "execution_count": null,
   "metadata": {
    "collapsed": true
   },
   "outputs": [],
   "source": [
    "nombre = 5.5\n",
    "print(type(nombre))"
   ]
  },
  {
   "cell_type": "markdown",
   "metadata": {},
   "source": [
    "### Utilisation d'un attribut:\n",
    "\n",
    "> `mon_objet.mon_attribut`\n",
    "\n",
    "Par exemple, pour obtenir la partie imaginaire de 1+3j, il est possible d'utiliser la liste d'instructions suivantes:"
   ]
  },
  {
   "cell_type": "code",
   "execution_count": null,
   "metadata": {
    "collapsed": true
   },
   "outputs": [],
   "source": [
    "nombre_complexe = 1+3j #creation d'un objet complexe\n",
    "print(nombre_complexe.imag)"
   ]
  },
  {
   "cell_type": "markdown",
   "metadata": {},
   "source": [
    "### Appel d'une méthode classique:\n",
    "\n",
    "> `mon_objet.ma_methode()` \n",
    "\n",
    "Par exemple, pour obtenir le conjugé de 1+3j, il est possible d'utiliser la liste d'instructions suivantes:"
   ]
  },
  {
   "cell_type": "code",
   "execution_count": null,
   "metadata": {
    "collapsed": true
   },
   "outputs": [],
   "source": [
    "nombre_complexe = 1+3j #creation d'un objet complexe\n",
    "print(nombre_complexe.conjugate())"
   ]
  },
  {
   "cell_type": "markdown",
   "metadata": {},
   "source": [
    "## Exercices :  *Classe str* (chaînes de caractères) :\n",
    "\n",
    "Pour illustrer le fonctionnement des objets en Python, nous allons nous focaliser sur la classe *'str'*, dédiée à la gestion des chaînes de caractères.\n",
    "\n",
    "En Python, il existe des types **simples** et des types **containers**. Ces derniers permettent d'instancier des objets contenant plusieurs données. Les chaînes de caractères sont des **containers** car elles contiennent plusieurs données de type caractère. On distingue trois catégories de containers : les **séquences**, les **maps** ou **hashs** et les **ensembles**. Les chaînes de caractères figurent dans la catégorie des **séquences**.\n",
    "\n",
    "Comme une chaîne de caractères est une séquence ordonnée de caractères, il est possible d'extraire facilement certains élèments en utilisant des indices."
   ]
  },
  {
   "cell_type": "code",
   "execution_count": null,
   "metadata": {
    "collapsed": true
   },
   "outputs": [],
   "source": [
    "chaine = \"bonjour\"\n",
    "print(chaine[0:3])        # utilisation des slicing [:]\n",
    "print(chaine[-4:])\n",
    "print(chaine[0:7:2])"
   ]
  },
  {
   "cell_type": "markdown",
   "metadata": {},
   "source": [
    "Remarquons qu'en Python, les chaînes de caractères sont **immutables** c-a-d qu'elles ne sont pas modifiables. Ainsi, toute demande de modification du contenu entrainera la création d'une nouvelle chaîne. Le garbage collector effacera alors automatiquement la ou les chaînes non référencées."
   ]
  },
  {
   "cell_type": "markdown",
   "metadata": {},
   "source": [
    "### Question 1 : \n",
    "\n",
    "Listez 5 méthodes (non spéciales) de la classe **str**."
   ]
  },
  {
   "cell_type": "markdown",
   "metadata": {},
   "source": [
    "* methode 1: # A completer\n",
    "* methode 2: # A completer\n",
    "* methode 3: # A completer\n",
    "* methode 4: # A completer\n",
    "* methode 5: # A completer"
   ]
  },
  {
   "cell_type": "markdown",
   "metadata": {},
   "source": [
    "### Question 2 :\n",
    "\n",
    "A l'aide de la fonction input, lisez une chaine de caractères au clavier. Mettez ensuite cette chaine de caractère en majuscule à l'aide d'une méthode de la **class 'str'**."
   ]
  },
  {
   "cell_type": "code",
   "execution_count": null,
   "metadata": {
    "collapsed": true
   },
   "outputs": [],
   "source": [
    "# A compléter"
   ]
  },
  {
   "cell_type": "markdown",
   "metadata": {},
   "source": [
    "### Question 3 :\n",
    "\n",
    "Considérons une url stockée dans une chaine de caractère (par exemple: www.jackymoumoute.com/voiture/tesla/model_s). En utilisant une méthode de la **class 'str'**, décomposez l'url en une liste de chaînes de caractères en se basant sur le séparateur `/`.\n",
    "\n",
    "** Indication **: Le résultat attendu est une liste `['www.jackymoumoute.com', 'voiture', 'tesla', 'model_s']`"
   ]
  },
  {
   "cell_type": "code",
   "execution_count": null,
   "metadata": {
    "collapsed": true
   },
   "outputs": [],
   "source": [
    "url = \"www.jackymoumoute.com/voiture/tesla/model_s\"\n",
    "# A compléter"
   ]
  },
  {
   "cell_type": "markdown",
   "metadata": {},
   "source": [
    "### Question 4 :\n",
    "\n",
    "A l'aide de la fonction **input( )**, lisez une chaine de caractères au clavier contenant le prénom et le nom d'une personne. Affichez ensuite les initiales de cette personne."
   ]
  },
  {
   "cell_type": "code",
   "execution_count": null,
   "metadata": {
    "collapsed": true
   },
   "outputs": [],
   "source": [
    "# A compléter"
   ]
  },
  {
   "cell_type": "markdown",
   "metadata": {},
   "source": [
    "### Question 5 :\n",
    "\n",
    "En utilisant plusieurs fois la même méthode de la **class 'str'**, remplacez dans une chaine de caractères:\n",
    "* les `o` par des `e`\n",
    "* les `x` par des `c`\n",
    "* les `p` par des `n`"
   ]
  },
  {
   "cell_type": "code",
   "execution_count": null,
   "metadata": {
    "collapsed": true
   },
   "outputs": [],
   "source": [
    "chaine = \"xoxi ost upo xhaipo soxroto\"\n",
    "# A completer"
   ]
  },
  {
   "cell_type": "markdown",
   "metadata": {},
   "source": [
    "### Question 6 :\n",
    "\n",
    "En utilisant une méthode de la **class 'str'**, déterminez le nombre de caractères `e` contenus dans une chaine de caractères."
   ]
  },
  {
   "cell_type": "code",
   "execution_count": null,
   "metadata": {
    "collapsed": true
   },
   "outputs": [],
   "source": [
    "chaine = \"Le français est une langue contenant un nombre important de lettre e.\"\n",
    "# A compléter"
   ]
  },
  {
   "cell_type": "markdown",
   "metadata": {},
   "source": [
    "### Question 7 :\n",
    "\n",
    "Comptez le nombre de voyelles contenues dans une chaine de caractères (c-a-d le nombre de a, le nombre de e, etc...)"
   ]
  },
  {
   "cell_type": "code",
   "execution_count": null,
   "metadata": {
    "collapsed": true
   },
   "outputs": [],
   "source": [
    "list_voyelle = ['a','e','i','o','u','y']\n",
    "chaine = \"Alors, combien de voyelles comporte cette chaine ?\"\n",
    "# A compléter"
   ]
  },
  {
   "cell_type": "markdown",
   "metadata": {},
   "source": [
    "## Question 8 :\n",
    "\n",
    "Comptez le nombre de chacune des lettres comprises dans une chaine de caractères.\n",
    "\n",
    "** Indication: ** nous utiliserons un dictionnaire et la fonction get( ).\n"
   ]
  },
  {
   "cell_type": "code",
   "execution_count": null,
   "metadata": {
    "collapsed": true
   },
   "outputs": [],
   "source": [
    "chaine = \"Python est un langage de programmation objet, multi-paradigme et multiplateformes. \\\n",
    "          Il favorise la programmation impérative structurée, fonctionnelle et orientée objet. \\\n",
    "          Il est doté d'un typage dynamique fort, d'une gestion automatique de la mémoire par ramasse-miettes et \\\n",
    "          d'un système de gestion d'exception.\""
   ]
  },
  {
   "cell_type": "markdown",
   "metadata": {},
   "source": [
    "# Partie 2 : Création d'Objets"
   ]
  },
  {
   "cell_type": "markdown",
   "metadata": {},
   "source": [
    "Si les développeurs devaient se limiter aux **objets** prédéfinis par Python (types intégrés) sans pouvoir créer ses propres **objets** (nouveaux types), certaines modélisations de données plus complexes seraient impossibles.\n",
    "\n",
    "En Python comme dans les autres langages de **POO**, il est possible de créer ses propres **objets** en écrivant de nouvelles classes via l'utilisation du mot clé **class**. L'exécution de l'instruction **class** provoque la création d'un nouvel **objet** du type **class**, assigné au nom que vous aurez choisi.\n"
   ]
  },
  {
   "cell_type": "markdown",
   "metadata": {},
   "source": [
    "## Avant Propos\n",
    "\n",
    "### Creation d'un objet voiture\n",
    "\n",
    "Pour illustrer nos propos, nous allons considérer la création d'une classe voiture."
   ]
  },
  {
   "cell_type": "code",
   "execution_count": null,
   "metadata": {
    "collapsed": true
   },
   "outputs": [],
   "source": [
    "class Voiture():\n",
    "\n",
    "    # attribut de la class\n",
    "    moteur = 1\n",
    "\n",
    "    # constructeur de la class\n",
    "    def __init__(self,nom,nb_roues=4):\n",
    "        self.nom = nom\n",
    "        self.nb_roues = nb_roues\n",
    "        \n",
    "    # méthode de la class\n",
    "    def allumer(self):\n",
    "        print(\"La voiture {} démarre.\".format(self.nom))"
   ]
  },
  {
   "cell_type": "code",
   "execution_count": null,
   "metadata": {
    "collapsed": true
   },
   "outputs": [],
   "source": [
    "# création d'un objet voiture\n",
    "ma_voiture = Voiture(\"Megane\")   # création de l'objet (-> appel du constructeur) (instanciation de la classe Voiture)\n",
    "print(ma_voiture.nom)            # utilisation de l'attribut nom\n",
    "print(\"nombre de roues : {}\".format(ma_voiture.nb_roues))   # utilisation de l'attribut nb_roues\n",
    "ma_voiture.allumer()             # appel de la méthode allumer"
   ]
  },
  {
   "cell_type": "markdown",
   "metadata": {},
   "source": [
    "### Quelques Explications:\n",
    "\n",
    "#### Nommage de la classe\n",
    "\n",
    "La PEP 8 de Python recommande d'utiliser la convention CamelCase pour les noms de classes (c-a-d première lettre de chaque Mot en majuscule). Ainsi, notre classe voiture est nommée `Voiture`. \n",
    "\n",
    "#### Attributs\n",
    "\n",
    "Notre objet voiture comporte 3 attributs: `moteur` (attribut fixe), `nom` et `nb_roues`.\n",
    "\n",
    "#### Constructeur \n",
    "\n",
    "Lors de la construction de notre objet voiture, le constructeur de l'objet est appelé. Ce constructeur est défini par la méthode spéciale `__init__(self,...)`. Dans le cas présent, cette méthode va initialisée l'attibut `nom`.\n",
    "\n",
    "\n",
    "#### Méthodes \n",
    "\n",
    "Notre objet voiture comporte une méthode `allumer` permettant l'affichage d'une chaîne de caractères particulière à l'écran.\n",
    "\n",
    "### Heritage et Surcharge de méthodes\n",
    "\n",
    "Un des intêrets de la programmation orientée objet repose sur l'utilisation des mécanismes d'héritage. Ainsi, il est possible de créer de nouveaux objets héritant des attributs et des méthodes d'un objet parent. Les objets hérités peuvent également *surcharger* certaines méthodes de leur objet parent.\n",
    "\n",
    "A titre d'illustration, la classe suivante nommée `VoitureSuperRapide` hérite de la classe `Voiture`. Cette nouvelle classe surcharge la méthode `allumer` de l'objet parent."
   ]
  },
  {
   "cell_type": "code",
   "execution_count": null,
   "metadata": {
    "collapsed": true
   },
   "outputs": [],
   "source": [
    "class VoitureSuperRapide(Voiture):\n",
    "\n",
    "    # methode allumer surchargée \n",
    "    def allumer(self):\n",
    "        print(\"La voiture {} démarre super vite.\".format(self.nom))"
   ]
  },
  {
   "cell_type": "code",
   "execution_count": null,
   "metadata": {
    "collapsed": true
   },
   "outputs": [],
   "source": [
    "ma_voiture1 = Voiture(\"Megane\")    # création d'une instance de la classe Voiture\n",
    "ma_voiture1.allumer()              # appel de la méthode allumer de la classe Voiture\n",
    "ma_voiture2 = VoitureSuperRapide(\"Ferrari\")   # création d'une instanece de la classe VoitureSuperRapide\n",
    "ma_voiture2.allumer()              # appel de la méthode allumer de la classe VoitureSuperRapide"
   ]
  },
  {
   "cell_type": "markdown",
   "metadata": {},
   "source": [
    "## Exercices : Création d'un classe `GenerateurDeSignaux`"
   ]
  },
  {
   "cell_type": "markdown",
   "metadata": {},
   "source": [
    "Dans cet exercice, nous allons creer une classe nommée `GenerateurDeSignaux` permettant de générer des signaux sinusoidaux. Ensuite, nous créerons des classes héritées pour générer des signaux carrés et en dent de scie."
   ]
  },
  {
   "cell_type": "markdown",
   "metadata": {},
   "source": [
    "### Question 9 : \n",
    "\n",
    "Créez une classe `GenerateurDeSignaux`. Le constructeur de la classe prendra :\n",
    "* un attribut fixe `forme` comportant la chaine `sinusoide` \n",
    "* un attribut `amplitude` (valeur par défaut 1)\n",
    "* un attribut `frequence` (valeur par défaut 1000)\n",
    "* un attribut fréquence d'échantillonnage `fe` (valeur par défaut 22050"
   ]
  },
  {
   "cell_type": "code",
   "execution_count": null,
   "metadata": {
    "collapsed": true
   },
   "outputs": [],
   "source": [
    "# A compléter"
   ]
  },
  {
   "cell_type": "code",
   "execution_count": null,
   "metadata": {
    "collapsed": true
   },
   "outputs": [],
   "source": [
    "# Test\n",
    "gbf1=GenerateurDeSignaux()\n",
    "gbf2=GenerateurDeSignaux(frequence=100)"
   ]
  },
  {
   "cell_type": "markdown",
   "metadata": {},
   "source": [
    "### Question 10 :\n",
    "\n",
    "Ajoutez à votre classe, une méthode nommée `genere_signal` permettant de génerer une sinusoide d'amplitude `self.amplitude` et de fréquence `self.frequence`. Cette méthode devra posséder les caractéristiques suivantes:\n",
    "* Entrée: paramètre `duree`.\n",
    "* Sortie1: paramètre `t` (la base temps)\n",
    "* Sortie2: paramètre `signal` (la sinusoide générée)\n",
    "\n",
    "** indication** : Pour générer le signal sinusoidal, il est recommandé d'utiliser l'exemple [Matplotlib](https://vincentchoqueuse.gitbooks.io/gitbook-python/content/chapter4.html#matplotlib) de votre cours python. Par rapport à l'exemple, le vecteur temps devra être changé en `t = arange(0,duree, 1/self.fe)`"
   ]
  },
  {
   "cell_type": "code",
   "execution_count": null,
   "metadata": {
    "collapsed": true
   },
   "outputs": [],
   "source": [
    "from numpy import arange, sin, pi\n",
    "\n",
    "# A compléter"
   ]
  },
  {
   "cell_type": "code",
   "execution_count": null,
   "metadata": {
    "collapsed": true
   },
   "outputs": [],
   "source": [
    "#test\n",
    "gbf1=GenerateurDeSignaux()\n",
    "t,s=gbf1.genere_signal(1)\n",
    "print(\"Base temps: {}\\nSignal: {}\".format(t,s))"
   ]
  },
  {
   "cell_type": "markdown",
   "metadata": {},
   "source": [
    "### Question 11 :\n",
    "\n",
    "Ajoutez à votre classe une méthode `affiche_signal`. Cette méthode devra possèder les caractéristiques suivantes :\n",
    "\n",
    "* Entrée (optionnel): paramètre `duree` (valeur par défaut 1s)\n",
    "* Sortie: aucune\n",
    "\n",
    "Cette méthode devra appeler la methode `genere_signal` puis afficher le résultat via matplotlib "
   ]
  },
  {
   "cell_type": "code",
   "execution_count": null,
   "metadata": {
    "collapsed": true
   },
   "outputs": [],
   "source": [
    "%matplotlib inline\n",
    "from numpy import arange, sin, pi\n",
    "from matplotlib.pyplot import plot,xlabel,ylabel,legend\n",
    "\n",
    "# A compléter"
   ]
  },
  {
   "cell_type": "code",
   "execution_count": null,
   "metadata": {
    "collapsed": true
   },
   "outputs": [],
   "source": [
    "#test\n",
    "gbf1=GenerateurDeSignaux(frequence=3)\n",
    "gbf1.affiche_signal()"
   ]
  },
  {
   "cell_type": "markdown",
   "metadata": {},
   "source": [
    "### Question 12 :\n",
    "Ajoutez à votre classe une méthode `sauvegarde_wav`. Cette méthode devra possèder les caractéristiques suivantes:\n",
    "\n",
    "* Entrée1 (optionnel) : paramètre `duree` (valeur par défaut 1s)\n",
    "* Entrée2 (optionnel) : paramètre `nom_fichier` (valeur par défaut 'son.wav')\n",
    "* Sortie: aucun\n",
    "\n",
    "Cette méthode devra appeler la methode `genere_signal` puis sauvegarder le signal généré dans un fichier `wav` via la fonction `write` du module `wavfile` de `scipy` (documentation [write](https://docs.scipy.org/doc/scipy/reference/generated/scipy.io.wavfile.write.html)). Cette fonction `write` sera appelée avec les paramètres suivants : `write(nom_fichier,self.Fe,signal)`"
   ]
  },
  {
   "cell_type": "code",
   "execution_count": null,
   "metadata": {
    "collapsed": true
   },
   "outputs": [],
   "source": [
    "%matplotlib inline\n",
    "from numpy import arange, sin, pi\n",
    "from scipy.io.wavfile import write\n",
    "from matplotlib.pyplot import plot,xlabel,ylabel,legend\n",
    "\n",
    "# A compléter"
   ]
  },
  {
   "cell_type": "code",
   "execution_count": null,
   "metadata": {
    "collapsed": true
   },
   "outputs": [],
   "source": [
    "#test\n",
    "import IPython\n",
    "\n",
    "gbf=GenerateurDeSignaux(frequence=1000)\n",
    "gbf.sauvegarde_wav()\n",
    "IPython.display.Audio(\"son.wav\")"
   ]
  },
  {
   "cell_type": "markdown",
   "metadata": {},
   "source": [
    "### Question 13 :\n",
    "\n",
    "Créez une nouvelle classe nommée `GenerateurDeSignauxCarres()` héritant de la classe `GenerateurDeSignaux()`. Par rapport à la classe heritée,  \n",
    "\n",
    "* l'attribut fixe `forme` devra comporter la chaine `carre`,\n",
    "* la méthode `genere_signal` devra être surchargée pour pouvoir générer un signal carré.\n",
    "\n",
    "** indication ** Pour générer un signal carré, il est conseillé d'utiliser la fonction `square` du module `signal` de `scipy` (document [square](https://docs.scipy.org/doc/scipy/reference/generated/scipy.signal.square.html)). Cette fonction s'utilise de la même facon que la fonction `np.sin`."
   ]
  },
  {
   "cell_type": "code",
   "execution_count": null,
   "metadata": {
    "collapsed": true
   },
   "outputs": [],
   "source": [
    "from scipy.signal import square\n",
    "\n",
    "# A compléter"
   ]
  },
  {
   "cell_type": "code",
   "execution_count": null,
   "metadata": {
    "collapsed": true
   },
   "outputs": [],
   "source": [
    "#test\n",
    "gbf1=GenerateurDeSignaux(frequence=3)\n",
    "gbf2=GenerateurDeSignauxCarres(amplitude=0.5,frequence=2)\n",
    "gbf1.affiche_signal()\n",
    "gbf2.affiche_signal()"
   ]
  },
  {
   "cell_type": "markdown",
   "metadata": {},
   "source": [
    "### Question 14 :\n",
    "\n",
    "De la même facon, créez une classe `GenerateurDeSignauxDentDeScie` héritant de la classe `GenerateurDeSignaux()`. Cette classe devra générer des signaux en dent de scie.\n",
    "\n",
    "** indication ** Pour générer un signal dent de scie, il est conseillé d'utiliser la fonction `sawtooth` du module `signal` de `scipy` (document [saw](https://docs.scipy.org/doc/scipy/reference/generated/scipy.signal.saw.html))."
   ]
  },
  {
   "cell_type": "code",
   "execution_count": null,
   "metadata": {
    "collapsed": true
   },
   "outputs": [],
   "source": [
    "from scipy.signal import sawtooth\n",
    "\n",
    "# A compléter"
   ]
  },
  {
   "cell_type": "code",
   "execution_count": null,
   "metadata": {
    "collapsed": true
   },
   "outputs": [],
   "source": [
    "#test\n",
    "gbf1=GenerateurDeSignaux(frequence=2)\n",
    "gbf2=GenerateurDeSignauxCarres(amplitude=0.5,frequence=2)\n",
    "gbf3=GenerateurDeSignauxDentDeScie(amplitude=0.8,frequence=2)\n",
    "gbf1.affiche_signal()\n",
    "gbf2.affiche_signal()\n",
    "gbf3.affiche_signal()"
   ]
  }
 ],
 "metadata": {
  "kernelspec": {
   "display_name": "Python [default]",
   "language": "python",
   "name": "python3"
  },
  "language_info": {
   "codemirror_mode": {
    "name": "ipython",
    "version": 3
   },
   "file_extension": ".py",
   "mimetype": "text/x-python",
   "name": "python",
   "nbconvert_exporter": "python",
   "pygments_lexer": "ipython3",
   "version": "3.4.5"
  }
 },
 "nbformat": 4,
 "nbformat_minor": 1
}
