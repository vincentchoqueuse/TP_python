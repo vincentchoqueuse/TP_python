{
 "cells": [
  {
   "cell_type": "markdown",
   "metadata": {},
   "source": [
    "# TP1: Les bases du langage Python\n",
    "\n",
    "Dans ce premier notebook, nous allons aborder les bases du langage Python. Plus précisément, nous allons apprendre à:\n",
    "\n",
    "* utiliser les entrées-sorties\n",
    "* utiliser les tuples, listes et dictionnaires Python\n",
    "* utiliser les structures de contrôles.\n",
    "\n"
   ]
  },
  {
   "cell_type": "markdown",
   "metadata": {},
   "source": [
    "## Partie 1: Gestion des entrées-sorties: fonctions `print` et `input`\n",
    "\n",
    "> Documentation: https://docs.python.org/3/tutorial/inputoutput.html"
   ]
  },
  {
   "cell_type": "markdown",
   "metadata": {},
   "source": [
    "### Exercice 1 : \n",
    "Affichez à l'écran *\"le nombre nb est égal à X\"* où X correspond à la valeur de la variable nb"
   ]
  },
  {
   "cell_type": "code",
   "execution_count": null,
   "metadata": {
    "collapsed": true
   },
   "outputs": [],
   "source": [
    "nb = 5\n",
    "\n",
    "# A compléter\n",
    "print(\"Le nombre nb est égal à {}\".format(nb))"
   ]
  },
  {
   "cell_type": "markdown",
   "metadata": {},
   "source": [
    "### Exercice 2 : \n",
    "Calculez la somme z=x+y puis affichez à l'écran *\"x+y=z\"* où x, y et z sont remplacés par leurs valeurs respectives."
   ]
  },
  {
   "cell_type": "code",
   "execution_count": null,
   "metadata": {
    "collapsed": false
   },
   "outputs": [],
   "source": [
    "x = 3\n",
    "y = 10\n",
    "\n",
    "# A compléter\n",
    "z = x + y\n",
    "print(\"{}+{}={}\".format(x,y,z))"
   ]
  },
  {
   "cell_type": "markdown",
   "metadata": {},
   "source": [
    "### Exercice 3 : \n",
    "Affichez à l'écran la valeur du nombre $\\pi$ avec 5 chiffres après la virgule."
   ]
  },
  {
   "cell_type": "code",
   "execution_count": null,
   "metadata": {
    "collapsed": false
   },
   "outputs": [],
   "source": [
    "from math import pi  # notion d'importation de module\n",
    "\n",
    "# A compléter\n",
    "print(\"{0:.5f}\".format(pi))"
   ]
  },
  {
   "cell_type": "markdown",
   "metadata": {},
   "source": [
    "### Exercice 4 : \n",
    "Affichez à l'écran le nom et le prénom, puis, le prénom et le nom."
   ]
  },
  {
   "cell_type": "code",
   "execution_count": null,
   "metadata": {
    "collapsed": false
   },
   "outputs": [],
   "source": [
    "nom = \"Einstein\"\n",
    "prenom = \"Albert\"\n",
    "\n",
    "# A compléter\n",
    "print(\"{} {}\".format(nom,prenom))\n",
    "print(\"{} {}\".format(prenom,nom))"
   ]
  },
  {
   "cell_type": "markdown",
   "metadata": {},
   "source": [
    "### Exercice 5 :\n",
    "Lisez une information passée au clavier, puis affichez à l'écran son type Python en utilisant la fonction `type`"
   ]
  },
  {
   "cell_type": "code",
   "execution_count": null,
   "metadata": {
    "collapsed": false
   },
   "outputs": [],
   "source": [
    "# A compléter\n",
    "entree = input(\"Entrez quelque chose : \")\n",
    "print(\"{}\".format(type(entree)))"
   ]
  },
  {
   "cell_type": "markdown",
   "metadata": {},
   "source": [
    "### Exercice 6 :\n",
    "Lisez au clavier un nombre entier, puis affichez à l'écran cet entier ainsi que son inverse.\n"
   ]
  },
  {
   "cell_type": "code",
   "execution_count": null,
   "metadata": {
    "collapsed": false
   },
   "outputs": [],
   "source": [
    "# A compléter\n",
    "entree = input(\"entrez un nombre :\")\n",
    "nb = int(entree)\n",
    "print(\"nombre : {}, son inverse {}\".format(nb, 1/nb))"
   ]
  },
  {
   "cell_type": "markdown",
   "metadata": {},
   "source": [
    "### Exercice 7 :\n",
    "Lisez au clavier un nombre réel nommé `r`. Ensuite, calculez puis affichez à l'écran pour un cercle de rayon `r` la valeur du perimètre ($2\\pi r$) et de l'aire ($\\pi r^2$). L'affichage devra se faire avec 3 chiffres après la virgule.\n"
   ]
  },
  {
   "cell_type": "code",
   "execution_count": null,
   "metadata": {
    "collapsed": false
   },
   "outputs": [],
   "source": [
    "from math import pi, pow\n",
    "\n",
    "# A compléter\n",
    "entree = input(\"Entrez un rayon : \")\n",
    "r = float(entree)\n",
    "\n",
    "perimetre = 2*pi*r\n",
    "aire = pi*pow(r,2)\n",
    "print(\"Perimetre : {0:.3f}\".format(perimetre))\n",
    "print(\"Aire : {0:.3f}\".format(aire))"
   ]
  },
  {
   "cell_type": "markdown",
   "metadata": {
    "collapsed": true
   },
   "source": [
    "## Partie 2 : Gestion des types `tuples`, `list` et `dict`\n",
    "\n",
    "Le python possède plusieurs types permettant la gestion d'informations structurées.\n",
    "\n",
    "### Les tuples : \n",
    "\n",
    "> Documentation: https://docs.python.org/3.6/tutorial/datastructures.html#tuples-and-sequences\n",
    "\n",
    "`jours = ('Lundi','Mardi','Mercredi','Jeudi','Vendredi','Samedi','Dimanche')`\n",
    "    \n",
    "* Le contenu d'un tuple n'est pas modifiable. \n",
    "* L'accès à un élement particulier d'un tuple s'obtient en spécifiant l'index de l'élement: `jours[0]`\n",
    "    \n",
    "    \n",
    "### Les listes :\n",
    "\n",
    "> Documentation: https://docs.python.org/3.6/tutorial/datastructures.html#more-on-lists\n",
    "\n",
    "`couleurs = ['Rouge','Vert','Bleu']` \n",
    " \n",
    "* Le contenu d'une liste est modifiable (voir documentation).\n",
    "* L'accès à un élement particulier d'une liste s'obtient en spécifiant l'index de l'élement: `couleurs[0]`\n",
    "\n",
    "\n",
    "### Les dictionnaires :\n",
    "\n",
    "> Documentation: https://docs.python.org/3.6/tutorial/datastructures.html#dictionaries\n",
    "\n",
    "`etudiant = {'nom': 'Moulin', 'prenom': 'Jean','age':44,'naissance':'20 juin 1899','diplome': 'SARII'}`\n",
    "\n",
    "* Le contenu d'un dictionnaire est modifiable (voir documentation).\n",
    "* L'accès à un élement particulier d'un dictionnaire s'obtient en spécifiant la clé: `nom = etudiant['nom']`\n",
    "\n",
    "    "
   ]
  },
  {
   "cell_type": "markdown",
   "metadata": {
    "collapsed": true
   },
   "source": [
    "### Exercice 8 :\n",
    "\n",
    "Créez un tuple nommé `mois` contenant les 12 mois de l'année. Affichez ensuite, à partir du contenu du tuple:\n",
    "\n",
    "* le nombre de mois\n",
    "* le 5ieme mois de l'année (c-a-d le mois de mai)"
   ]
  },
  {
   "cell_type": "code",
   "execution_count": null,
   "metadata": {
    "collapsed": false
   },
   "outputs": [],
   "source": [
    "# A compléter\n",
    "mois = ('janvier', 'fevrier', 'mars', 'avril', 'mai', 'juin',\n",
    "        'juillet', 'aout', 'septembre', 'octobre', 'novembre', 'decembre')\n",
    "\n",
    "print(\"nombre de mois dans l'année : {}\".format(len(mois)))\n",
    "print(\"5ieme mois : {}\".format(mois[4]))"
   ]
  },
  {
   "cell_type": "markdown",
   "metadata": {},
   "source": [
    "### Exercice 9.a :\n",
    "\n",
    "Créez une liste contenant 7 prénoms. Affichez ensuite les 5 premiers prénoms avec un seul `print`.\n"
   ]
  },
  {
   "cell_type": "code",
   "execution_count": null,
   "metadata": {
    "collapsed": false
   },
   "outputs": [],
   "source": [
    "# A compléter\n",
    "\n",
    "prenoms = [\"Vincent\", \"Julie\", \"Lily\", \"Nathan\", \"Emma\", \"Nino\", \"Alban\"]\n",
    "print(\"Les prénoms sont : {}\".format(prenoms[:5]))"
   ]
  },
  {
   "cell_type": "markdown",
   "metadata": {},
   "source": [
    "### Exercice 9.b :\n",
    "\n",
    "Dans la liste précédente, supprimez le premier prénom puis ajoutez en fin de liste le prénom \"Donald\". Affichez ensuite le contenu de la liste\n"
   ]
  },
  {
   "cell_type": "code",
   "execution_count": null,
   "metadata": {
    "collapsed": false
   },
   "outputs": [],
   "source": [
    "# A compléter\n",
    "\n",
    "del prenoms[0]\n",
    "prenoms.append(\"Donald\")\n",
    "print(\"Les prenoms sont : {}\".format(prenoms))"
   ]
  },
  {
   "cell_type": "markdown",
   "metadata": {},
   "source": [
    "### Exercice 10.a :\n",
    "\n",
    "Créez un dictionnaire nommé **`profil`** contenant :\n",
    "* une clé **`nom`** ayant pour valeur votre nom\n",
    "* une clé **`prenom`** ayant pour valeur votre prénom\n",
    "* une clé **`age`** ayant pour valeur votre age\n",
    "* une clé **`code`** ayant pour valeur le code de votre carte bleue.\n",
    "\n",
    "Ensuite, affichez pour la variable **`profil`** les valeurs associées aux clés **`nom`** et **`prenom`** avec un seul **`print`**.\n",
    "\n"
   ]
  },
  {
   "cell_type": "code",
   "execution_count": null,
   "metadata": {
    "collapsed": false
   },
   "outputs": [],
   "source": [
    "# A compléter\n",
    "\n",
    "profil = {'nom': 'Choqueuse', 'prenom': 'Vincent', 'age':36, 'code':'0123'}\n",
    "print(\"Nom/prénom: {} {}\".format(profil[\"nom\"], profil[\"prenom\"]))"
   ]
  },
  {
   "cell_type": "markdown",
   "metadata": {},
   "source": [
    "### Exercice 10.b :\n"
   ]
  },
  {
   "cell_type": "markdown",
   "metadata": {},
   "source": [
    "Dans le dictionnaire précédent, ajoutez :\n",
    "\n",
    "* une clé **`num_id`** ayant pour valeur votre numéro étudiant.\n",
    "* une clé **`email`** ayant pour valeur votre email.\n",
    "\n",
    "Ensuite, affichez pour le dictionnaire **`profil`** les valeurs associées aux clés **`nom`**, **`prenom`** et **`email`** avec un seul **`print()`**\n"
   ]
  },
  {
   "cell_type": "code",
   "execution_count": null,
   "metadata": {
    "collapsed": false
   },
   "outputs": [],
   "source": [
    "# A compléter\n",
    "profil[\"num_id\"] = \"e2325556677\"\n",
    "profil[\"email\"] = \"vincent.choqueuse@gmail.com\"\n",
    "\n",
    "print(\"Nom/prénom :\\t {} {}\\nemail :\\t\\t {}\".format(profil[\"nom\"], profil[\"prenom\"], profil[\"email\"]))"
   ]
  },
  {
   "cell_type": "markdown",
   "metadata": {},
   "source": [
    "## Partie 3 : Structures de contrôle\n",
    "\n",
    "> Cours: https://vincentchoqueuse.gitbooks.io/gitbook-python/content/chapter3.html\n",
    "\n",
    "> Documentation: https://docs.python.org/3/tutorial/controlflow.html"
   ]
  },
  {
   "cell_type": "markdown",
   "metadata": {},
   "source": [
    "### Exercice 11 : \n",
    "\n",
    "Lisez un nombre entier **`nb`** au clavier puis affichez à l'écran si ce nombre est supérieur ou égal à 10 ou bien inferieur à 10 ?"
   ]
  },
  {
   "cell_type": "code",
   "execution_count": null,
   "metadata": {
    "collapsed": false
   },
   "outputs": [],
   "source": [
    "# A compléter\n",
    "\n",
    "nb = int(input(\"Veuillez entrer un nombre\"))\n",
    "\n",
    "if nb >= 10:\n",
    "    print(\"Le nombre est supérieur ou égal à 10\")\n",
    "else:\n",
    "    print(\"Le nombre est inférieur à 10\")"
   ]
  },
  {
   "cell_type": "markdown",
   "metadata": {},
   "source": [
    "### Exercice 12 :\n",
    "\n",
    "Affichez à l'écran tous les nombres pairs compris entre 0 et 50 (exclu)"
   ]
  },
  {
   "cell_type": "code",
   "execution_count": null,
   "metadata": {
    "collapsed": false
   },
   "outputs": [],
   "source": [
    "# A compléter\n",
    "\n",
    "for nb in range(0, 50, 2):\n",
    "    print(\"nombre : {}\".format(nb))"
   ]
  },
  {
   "cell_type": "markdown",
   "metadata": {},
   "source": [
    "### Exercice 13 :\n",
    "\n",
    "Calculez puis affichez le résultat de la somme arithmétique : `S=1+2+...+N` avec `N = 10'."
   ]
  },
  {
   "cell_type": "code",
   "execution_count": null,
   "metadata": {
    "collapsed": false
   },
   "outputs": [],
   "source": [
    "N = 10\n",
    "\n",
    "# A compléter\n",
    "S = 0\n",
    "for n in range(1, N+1):\n",
    "    S = S + n\n",
    "\n",
    "print(\"Somme arithmétique : {}\".format(S))"
   ]
  },
  {
   "cell_type": "markdown",
   "metadata": {},
   "source": [
    "### Exercice 15 :\n",
    "\n",
    "Creez un programme demandant à l'utilisateur de tapper au clavier la chaine de caractères **`i love python`**. Le programme devra boucler jusqu'à ce que l'utilisateur rentre la bonne chaine de caractères."
   ]
  },
  {
   "cell_type": "code",
   "execution_count": null,
   "metadata": {
    "collapsed": false
   },
   "outputs": [],
   "source": [
    "# A compléter\n",
    "\n",
    "flag = 0\n",
    "while flag == 0:\n",
    "    chaine = input(\"Veuillez rentrez la chaine 'i love python': \")\n",
    "    flag = (chaine == \"i love python\")"
   ]
  },
  {
   "cell_type": "markdown",
   "metadata": {},
   "source": [
    "## Partie 4 : Logiciel de gestion de notes.\n",
    "\n",
    "Dans cette partie, vous allez concevoir un logiciel de gestion de notes. Pour chaque élève, nous allons créer un dictionnaire avec :\n",
    "\n",
    "* une clé **`nom`** avec le nom de l'élève\n",
    "* une clé **`prenom`** avec le prénom de l'élève\n",
    "* une clé **`note`** avec la note de l'élève.\n",
    "\n",
    "La classe est composée de 5 élèves (toute ressemblance avec des personnes existantes ou ayant existé est purement fortuite :) ):\n",
    "\n",
    "nom | prenom | note\n",
    "--- | --- | --- \n",
    "Le Roy | Joey| 19\n",
    "Quimerc'h | Yannick | 3.25\n",
    "Samboula | Dorian | 13.5\n",
    "Courte | Maxime | 9.75\n",
    "Le Bouedec | Lea | 10.25"
   ]
  },
  {
   "cell_type": "markdown",
   "metadata": {},
   "source": [
    "### Exercice 16.a :\n",
    "\n",
    "Créez un programme permettant de déclarer une variable de type liste nommée **`notes`** contenant vos 5 dictionnaires :"
   ]
  },
  {
   "cell_type": "code",
   "execution_count": null,
   "metadata": {
    "collapsed": false
   },
   "outputs": [],
   "source": [
    "notes = [{\"nom\": \"Le Roy\", \"prenom\": \"Joey\", \"note\": 19},\n",
    "         {\"nom\": \"Quimerch\", \"prenom\": \"Yannick\", \"note\": 3.25},\n",
    "         {\"nom\": \"Samboula\", \"prenom\": \"Dorian\", \"note\": 13.5},\n",
    "         {\"nom\": \"Courte\", \"prenom\": \"Maxime\", \"note\": 9.75},\n",
    "         {\"nom\": \"Le Bouedec\", \"prenom\": \"Lea\", \"note\": 10.25}]"
   ]
  },
  {
   "cell_type": "markdown",
   "metadata": {},
   "source": [
    "### Exercice 16.b :\n",
    "\n",
    "Affichez à l'écran à partir du contenu de la variable **notes** le nom, le prenom et la note du 2ieme élève (c-a-d Yannick)"
   ]
  },
  {
   "cell_type": "code",
   "execution_count": null,
   "metadata": {
    "collapsed": false
   },
   "outputs": [],
   "source": [
    "i = 1\n",
    "print(\"nom/prenom: {} {}, note: {}/20\".format(notes[i][\"nom\"],\n",
    "                                      notes[i][\"prenom\"], notes[i][\"note\"]))"
   ]
  },
  {
   "cell_type": "markdown",
   "metadata": {},
   "source": [
    "### Exercice 16.c :\n",
    "\n",
    "Affichez à l'écran à partir du contenu de la variable **notes** les noms, prenoms et notes des 5 élèves."
   ]
  },
  {
   "cell_type": "code",
   "execution_count": 21,
   "metadata": {
    "collapsed": false
   },
   "outputs": [
    {
     "name": "stdout",
     "output_type": "stream",
     "text": [
      "nom/prenom: Le Roy Joey, note: 19/20\n",
      "nom/prenom: Quimerch Yannick, note: 3.25/20\n",
      "nom/prenom: Samboula Dorian, note: 13.5/20\n",
      "nom/prenom: Courte Maxime, note: 9.75/20\n",
      "nom/prenom: Le Bouedec Lea, note: 10.25/20\n"
     ]
    }
   ],
   "source": [
    "for indice in range(5):\n",
    "    print(\"nom/prenom: {} {}, note: {}/20\".format(notes[indice][\"nom\"],\n",
    "          notes[indice][\"prenom\"],\n",
    "          notes[indice][\"note\"]))"
   ]
  },
  {
   "cell_type": "markdown",
   "metadata": {},
   "source": [
    "### Exercice 16.d :\n",
    "\n",
    "Affichez à l'écran à partir du contenu de la variable **`notes`** les noms et prénoms des élèves recallés (c-a-d ayant une note < 10)"
   ]
  },
  {
   "cell_type": "code",
   "execution_count": 22,
   "metadata": {
    "collapsed": false
   },
   "outputs": [
    {
     "name": "stdout",
     "output_type": "stream",
     "text": [
      "Etudiant recallé : Quimerch Yannick\n",
      "Etudiant recallé : Courte Maxime\n"
     ]
    }
   ],
   "source": [
    "for indice in range(5):\n",
    "    if notes[indice][\"note\"]<10:\n",
    "        print(\"Etudiant recallé : {} {}\".format(notes[indice][\"nom\"],\n",
    "              notes[indice][\"prenom\"]))"
   ]
  },
  {
   "cell_type": "markdown",
   "metadata": {},
   "source": [
    "### Exercice 16.e :\n",
    "\n",
    "Calculez, puis affichez à l'écran la moyenne de la classe."
   ]
  },
  {
   "cell_type": "code",
   "execution_count": null,
   "metadata": {
    "collapsed": false
   },
   "outputs": [],
   "source": [
    "somme = 0\n",
    "\n",
    "for indice in range(5):\n",
    "    somme = somme+notes[indice][\"note\"]\n",
    "    \n",
    "moyenne = somme/5\n",
    "print(\"moyenne: {}/20\".format(moyenne))"
   ]
  },
  {
   "cell_type": "markdown",
   "metadata": {},
   "source": [
    "### Exercice 16.f :\n",
    "\n",
    "A partir du contenu de la variable **`notes`**, déterminez le major de la promo puis affichez à l'écran son nom, son prénom et sa note.\n"
   ]
  },
  {
   "cell_type": "code",
   "execution_count": 23,
   "metadata": {
    "collapsed": false
   },
   "outputs": [
    {
     "name": "stdout",
     "output_type": "stream",
     "text": [
      "Major de la promo: Le Roy Joey\n"
     ]
    }
   ],
   "source": [
    "note_max = 0\n",
    "index_max = 0\n",
    "\n",
    "for indice in range(5):\n",
    "    if notes[indice][\"note\"] > note_max:\n",
    "        index_max = indice\n",
    "        note_max = notes[indice][\"note\"]\n",
    "        \n",
    "        \n",
    "print(\"Major de la promo: {} {}\".format(notes[index_max][\"nom\"], notes[index_max][\"prenom\"]))"
   ]
  },
  {
   "cell_type": "code",
   "execution_count": null,
   "metadata": {
    "collapsed": true
   },
   "outputs": [],
   "source": []
  }
 ],
 "metadata": {
  "anaconda-cloud": {},
  "kernelspec": {
   "display_name": "Python [default]",
   "language": "python",
   "name": "python3"
  },
  "language_info": {
   "codemirror_mode": {
    "name": "ipython",
    "version": 3
   },
   "file_extension": ".py",
   "mimetype": "text/x-python",
   "name": "python",
   "nbconvert_exporter": "python",
   "pygments_lexer": "ipython3",
   "version": "3.4.5"
  }
 },
 "nbformat": 4,
 "nbformat_minor": 1
}
