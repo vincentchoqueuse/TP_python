{
 "cells": [
  {
   "cell_type": "markdown",
   "metadata": {},
   "source": [
    "# Introduction aux fonctions\n",
    "\n"
   ]
  },
  {
   "cell_type": "markdown",
   "metadata": {},
   "source": [
    "## Partie 1: Introduction\n",
    "\n",
    "En Python, la création d'une fonction s'obtient en utilisant le mot clé **def**. A titre d'illustration, la fonction suivante permet de calculer le module de deux nombres (`partie_reel` et `partie_imag`) passés en entrée."
   ]
  },
  {
   "cell_type": "code",
   "execution_count": 78,
   "metadata": {
    "collapsed": true
   },
   "outputs": [],
   "source": [
    "def calcul_module(partie_reel,partie_imag):\n",
    "    module=(partie_reel**2+partie_imag**2)**0.5\n",
    "    return module\n",
    "    "
   ]
  },
  {
   "cell_type": "code",
   "execution_count": 57,
   "metadata": {
    "collapsed": false
   },
   "outputs": [
    {
     "name": "stdout",
     "output_type": "stream",
     "text": [
      "Valeur du module: 2.236\n"
     ]
    }
   ],
   "source": [
    "print(\"Valeur du module: {0:.3f}\".format(calcul_module(1,2)))"
   ]
  },
  {
   "cell_type": "markdown",
   "metadata": {},
   "source": [
    "### Exercice 1\n",
    "\n",
    "Créez une fonction nommée **eval_fx** permettant d'évaluer la fonction $f(x)=10x+3$. La fonction **eval_fx** aura les paramètres suivants:\n",
    "\n",
    "* entrée: une valeur `x`,\n",
    "* sortie: la valeur de $f(x)$ évaluée en `x`."
   ]
  },
  {
   "cell_type": "code",
   "execution_count": 107,
   "metadata": {
    "collapsed": true
   },
   "outputs": [],
   "source": [
    "# A completer\n",
    "def eval_fx(x):\n",
    "    return 10*x+3"
   ]
  },
  {
   "cell_type": "code",
   "execution_count": 108,
   "metadata": {
    "collapsed": false
   },
   "outputs": [
    {
     "name": "stdout",
     "output_type": "stream",
     "text": [
      "Valeur de la fonction: f(4)=43\n"
     ]
    }
   ],
   "source": [
    "print(\"Valeur de la fonction: f({})={}\".format(4,eval_fx(4)))"
   ]
  },
  {
   "cell_type": "markdown",
   "metadata": {},
   "source": [
    "### Exercice 3:\n",
    "\n",
    "Créez une fonction nommée **calcul_discriminant** permettant de calculer le discriminant du polynome: $f(x)=ax^2+bx+c$. La fonction **calcul_discriminant** aura les paramètres suivants:\n",
    "\n",
    "* entrée: les coefficients `a`, `b` et `c`\n",
    "* sortie: le discriminant du polynome (c-a-d $\\Delta=b^2-4ac$).\n",
    "\n"
   ]
  },
  {
   "cell_type": "code",
   "execution_count": 109,
   "metadata": {
    "collapsed": true
   },
   "outputs": [],
   "source": [
    "# A completer\n",
    "def calcul_discriminant(a,b,c):\n",
    "    return b**2-4*a*c"
   ]
  },
  {
   "cell_type": "code",
   "execution_count": 110,
   "metadata": {
    "collapsed": false
   },
   "outputs": [
    {
     "name": "stdout",
     "output_type": "stream",
     "text": [
      "Discriminant: Delta=3\n"
     ]
    }
   ],
   "source": [
    "print(\"Discriminant: Delta={}\".format(3,calcul_discriminant(1,1,1)))"
   ]
  },
  {
   "cell_type": "markdown",
   "metadata": {},
   "source": [
    "### Exercice 4\n",
    "\n",
    "Créez une fonction **eval_min** ayant les paramètres suivants:\n",
    "* entrées: deux nombres nb1 et nb2\n",
    "* sorties: le minimum des deux nombres"
   ]
  },
  {
   "cell_type": "code",
   "execution_count": 111,
   "metadata": {
    "collapsed": false
   },
   "outputs": [],
   "source": [
    "# A compléter\n",
    "def eval_min(nb1,nb2):\n",
    "    if nb2 > nb1:\n",
    "        minimum=nb1\n",
    "    else:\n",
    "        minimum=nb2\n",
    "    return minimum"
   ]
  },
  {
   "cell_type": "code",
   "execution_count": 112,
   "metadata": {
    "collapsed": false
   },
   "outputs": [
    {
     "name": "stdout",
     "output_type": "stream",
     "text": [
      "minimum=5\n"
     ]
    }
   ],
   "source": [
    "print(\"minimum={}\".format(eval_min(10,5)))"
   ]
  },
  {
   "cell_type": "markdown",
   "metadata": {},
   "source": [
    "### Exercice 4:\n",
    "\n",
    "Créez une fonction **table_multiplication** permettant d'afficher la table de multiplication d'un nombre passé en entrée (multiplication par 0,1, 2, ..., 10). Par exemple, si `nb=3`, la fonction devra afficher:\n",
    "    * 0*3=0\n",
    "    * 1*3=0\n",
    "    * ...\n",
    "    * 10*3=30\n",
    "\n",
    "La fonction prendra les paramètres suivants:\n",
    "\n",
    "* entrée: un nombre `nb`\n",
    "* résultat: rien (la fonction ne doit afficher que la table de multiplication)."
   ]
  },
  {
   "cell_type": "code",
   "execution_count": 113,
   "metadata": {
    "collapsed": true
   },
   "outputs": [],
   "source": [
    "# A completer\n",
    "def table_multiplication(nb):\n",
    "    \n",
    "    for indice in range(11):\n",
    "        print(\"{}*{}={}\".format(indice,nb,indice*nb))"
   ]
  },
  {
   "cell_type": "code",
   "execution_count": 114,
   "metadata": {
    "collapsed": false
   },
   "outputs": [
    {
     "name": "stdout",
     "output_type": "stream",
     "text": [
      "0*7=0\n",
      "1*7=7\n",
      "2*7=14\n",
      "3*7=21\n",
      "4*7=28\n",
      "5*7=35\n",
      "6*7=42\n",
      "7*7=49\n",
      "8*7=56\n",
      "9*7=63\n",
      "10*7=70\n"
     ]
    }
   ],
   "source": [
    "table_multiplication(7)"
   ]
  },
  {
   "cell_type": "markdown",
   "metadata": {},
   "source": [
    "### Exercice 5:\n",
    "\n",
    "Créez une fonction **test_premier** permettant de déterminer si un nombre passé en entrée est premier. La fonction prendra les paramètres suivants:\n",
    "\n",
    "* entrée: un nombre `nb`\n",
    "* sortie: un entier `resultat`. Cet entier sera égal à 1 si le nombre est premier et égal à 0 si le nombre n'est pas premier.\n",
    "\n",
    "**Indication:** Un nombre est dit premier si il est uniquement divisible par 1 et par lui même. Pour savoir si un nombre `nb1` est divisible par un nombre `nb2`, il est possible d'utiliser la fonction modulo `%`."
   ]
  },
  {
   "cell_type": "code",
   "execution_count": 15,
   "metadata": {
    "collapsed": true
   },
   "outputs": [],
   "source": [
    "# A completer\n",
    "def test_premier(nb):\n",
    "    resultat=1\n",
    "    for diviseur in range(2,nb):\n",
    "        if (nb%diviseur)==0:\n",
    "            resultat=0\n",
    "    return resultat"
   ]
  },
  {
   "cell_type": "code",
   "execution_count": 16,
   "metadata": {
    "collapsed": false
   },
   "outputs": [
    {
     "name": "stdout",
     "output_type": "stream",
     "text": [
      "Est ce que 12 est premier ? 0\n",
      "Est ce que 11 est premier ? 1\n"
     ]
    }
   ],
   "source": [
    "print(\"Est ce que {} est premier ? {}\".format(12,test_premier(12)))\n",
    "print(\"Est ce que {} est premier ? {}\".format(11,test_premier(11)))"
   ]
  },
  {
   "cell_type": "markdown",
   "metadata": {},
   "source": [
    "### Exercice 6:\n",
    "\n",
    "Créez une fonction **convert_s** permettant de convertir un nombre de seconde en heures, minutes, secondes. La fonction prendra les paramètres suivants:\n",
    "\n",
    "* entrée: un nombre de secondes `nb_s`\n",
    "* sorties: le nombre d'heures, de minutes et de secondes.\n",
    "\n",
    "** Indication: ** Pour convertir le nombre de secondes, il faudra tout d'abord faire la division entière par 3600, puis une division entière par 60 sur le reste. Pour réaliser une division entière, vous utiliserez la syntaxe `nb//60`"
   ]
  },
  {
   "cell_type": "code",
   "execution_count": 12,
   "metadata": {
    "collapsed": true
   },
   "outputs": [],
   "source": [
    "# A compléter\n",
    "def convert_s(nb_s):\n",
    "    nb_heures=nb_s//3600\n",
    "    reste=nb_s%3600\n",
    "    nb_minutes=reste//60\n",
    "    nb_secondes=reste%60\n",
    "    return nb_heures, nb_minutes, nb_secondes"
   ]
  },
  {
   "cell_type": "code",
   "execution_count": 13,
   "metadata": {
    "collapsed": false
   },
   "outputs": [
    {
     "name": "stdout",
     "output_type": "stream",
     "text": [
      "1 H: 4 min: 41 s\n"
     ]
    }
   ],
   "source": [
    "print(\"{0[0]} H: {0[1]} min: {0[2]} s\".format(convert_s(3881)))"
   ]
  },
  {
   "cell_type": "markdown",
   "metadata": {},
   "source": [
    "### Exercice 7:\n",
    "\n",
    "Créez une fonction **recherche_extremum** permettant de trouver dans un tuple contenant des nombres le nombre le plus petit **ET** le nombre le plus grand. La fonction prendra les paramètres suivants:\n",
    "\n",
    "* entrée: un tuple de nombre nommée `nbs`\n",
    "* sorties: le minimum et le maximum"
   ]
  },
  {
   "cell_type": "code",
   "execution_count": 10,
   "metadata": {
    "collapsed": true
   },
   "outputs": [],
   "source": [
    "# A compléter\n",
    "def recherche_extremum(nbs):\n",
    "    minimum=nbs[0]\n",
    "    maximum=nbs[0]\n",
    "    \n",
    "    for indice in range(len(nbs)):\n",
    "        nb=nbs[indice]\n",
    "        if nb > maximum:\n",
    "            maximum=nb\n",
    "        if nb < minimum:\n",
    "            minimum=nb\n",
    "    \n",
    "    return minimum,maximum"
   ]
  },
  {
   "cell_type": "code",
   "execution_count": 11,
   "metadata": {
    "collapsed": false
   },
   "outputs": [
    {
     "name": "stdout",
     "output_type": "stream",
     "text": [
      "minimum=-5 maximum=32\n"
     ]
    }
   ],
   "source": [
    "nbs=(10,5,19,1,32,-5,4)\n",
    "print(\"minimum={0[0]} maximum={0[1]}\".format(recherche_extremum(nbs)))"
   ]
  },
  {
   "cell_type": "markdown",
   "metadata": {},
   "source": [
    "## Partie 2: Gestion des arguments optionnels"
   ]
  },
  {
   "cell_type": "markdown",
   "metadata": {},
   "source": [
    "### Exercice 6: affichage de sinusoîde\n",
    "\n",
    "Créez une fonction **affichage_sine** permettant d'afficher, via matplotlib, la sinusoide $f(x)=a\\sin(2\\pi f_0 t +\\phi)$. La fonction aura les paramètres suivants:\n",
    "\n",
    "* entrées (optionnelles): `f0`, `a` et `phi`. Par défaut, ces trois paramètres seront fixés à 1\n",
    "* sortie: aucune\n",
    "\n",
    "Pour construire et afficher la sinusoide, vous pouvez vous inspirer de l'exemple [Matplotlib]( https://vincentchoqueuse.gitbooks.io/gitbook-python/content/chapter4.html#matplotlib) et utiliser la même base temps ($t$ variant de $0$ à $1$ par pas de $1/1000$)\n"
   ]
  },
  {
   "cell_type": "code",
   "execution_count": 117,
   "metadata": {
    "collapsed": true
   },
   "outputs": [],
   "source": [
    "%matplotlib inline\n",
    "import numpy as np\n",
    "import matplotlib.pyplot as plt\n",
    "\n",
    "# A completer\n",
    "def affichage_sine(f0=1,a=1,phi=1):\n",
    "    t=np.arange(0,1,1/1000)\n",
    "    x=a*np.sin(2*np.pi*f0*t)\n",
    "    plt.plot(t,x)"
   ]
  },
  {
   "cell_type": "code",
   "execution_count": 118,
   "metadata": {
    "collapsed": false
   },
   "outputs": [
    {
     "data": {
      "image/png": "[encoded data removed]",
      "text/plain": [
       "<matplotlib.figure.Figure at 0x10d7e9c50>"
      ]
     },
     "metadata": {},
     "output_type": "display_data"
    }
   ],
   "source": [
    "affichage_sine()\n",
    "affichage_sine(f0=3,phi=np.pi)"
   ]
  },
  {
   "cell_type": "code",
   "execution_count": null,
   "metadata": {
    "collapsed": true
   },
   "outputs": [],
   "source": []
  },
  {
   "cell_type": "code",
   "execution_count": null,
   "metadata": {
    "collapsed": true
   },
   "outputs": [],
   "source": []
  },
  {
   "cell_type": "code",
   "execution_count": null,
   "metadata": {
    "collapsed": true
   },
   "outputs": [],
   "source": []
  },
  {
   "cell_type": "code",
   "execution_count": null,
   "metadata": {
    "collapsed": true
   },
   "outputs": [],
   "source": []
  }
 ],
 "metadata": {
  "anaconda-cloud": {},
  "kernelspec": {
   "display_name": "Python [conda root]",
   "language": "python",
   "name": "conda-root-py"
  },
  "language_info": {
   "codemirror_mode": {
    "name": "ipython",
    "version": 3
   },
   "file_extension": ".py",
   "mimetype": "text/x-python",
   "name": "python",
   "nbconvert_exporter": "python",
   "pygments_lexer": "ipython3",
   "version": "3.4.5"
  }
 },
 "nbformat": 4,
 "nbformat_minor": 1
}
