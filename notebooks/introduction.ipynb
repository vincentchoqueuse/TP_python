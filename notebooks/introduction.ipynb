{
 "cells": [
  {
   "cell_type": "markdown",
   "metadata": {},
   "source": [
    "# TP1: Les bases du langage Python\n",
    "\n",
    "Dans ce premier notebook, nous allons aborder les bases du langage Python. Plus précisément, nous allons apprendre à:\n",
    "\n",
    "* utiliser les entrées-sorties\n",
    "* utiliser les tuples, listes et dictionnaires Python\n",
    "* utiliser les structures de contrôles.\n",
    "\n"
   ]
  },
  {
   "cell_type": "markdown",
   "metadata": {},
   "source": [
    "## Partie 1: Gestion des entrées-sorties: fonctions `print` et `input`\n",
    "\n",
    "> Documentation: https://docs.python.org/3/tutorial/inputoutput.html"
   ]
  },
  {
   "cell_type": "markdown",
   "metadata": {},
   "source": [
    "### Exercice 1 : \n",
    "Affichez à l'écran *\"le nombre nb est égal à X\"* où X correspond à la valeur de la variable nb"
   ]
  },
  {
   "cell_type": "code",
   "execution_count": null,
   "metadata": {
    "collapsed": true
   },
   "outputs": [],
   "source": [
    "nb = 5\n",
    "\n",
    "# A compléter"
   ]
  },
  {
   "cell_type": "markdown",
   "metadata": {},
   "source": [
    "### Exercice 2 : \n",
    "Calculez la somme z=x+y puis affichez à l'écran *\"x+y=z\"* où x, y et z sont remplacés par leurs valeurs respectives."
   ]
  },
  {
   "cell_type": "code",
   "execution_count": null,
   "metadata": {
    "collapsed": false
   },
   "outputs": [],
   "source": [
    "x = 3\n",
    "y = 10\n",
    "\n",
    "# A compléter"
   ]
  },
  {
   "cell_type": "markdown",
   "metadata": {},
   "source": [
    "### Exercice 3 : \n",
    "Affichez à l'écran la valeur du nombre $\\pi$ avec 5 chiffres après la virgule."
   ]
  },
  {
   "cell_type": "code",
   "execution_count": null,
   "metadata": {
    "collapsed": false
   },
   "outputs": [],
   "source": [
    "from math import pi  # notion d'importation de module\n",
    "\n",
    "# A compléter"
   ]
  },
  {
   "cell_type": "markdown",
   "metadata": {},
   "source": [
    "### Exercice 4 : \n",
    "Affichez à l'écran le nom et le prénom, puis, le prénom et le nom."
   ]
  },
  {
   "cell_type": "code",
   "execution_count": null,
   "metadata": {
    "collapsed": false
   },
   "outputs": [],
   "source": [
    "nom = \"Einstein\"\n",
    "prenom = \"Albert\"\n",
    "\n",
    "# A compléter"
   ]
  },
  {
   "cell_type": "markdown",
   "metadata": {},
   "source": [
    "### Exercice 5 :\n",
    "Lisez une information passée au clavier, puis affichez à l'écran son type Python en utilisant la fonction `type`"
   ]
  },
  {
   "cell_type": "code",
   "execution_count": null,
   "metadata": {
    "collapsed": false
   },
   "outputs": [],
   "source": [
    "# A compléter"
   ]
  },
  {
   "cell_type": "markdown",
   "metadata": {},
   "source": [
    "### Exercice 6 :\n",
    "Lisez au clavier un nombre entier, puis affichez à l'écran cet entier ainsi que son inverse.\n"
   ]
  },
  {
   "cell_type": "code",
   "execution_count": null,
   "metadata": {
    "collapsed": false
   },
   "outputs": [],
   "source": [
    "# A compléter"
   ]
  },
  {
   "cell_type": "markdown",
   "metadata": {},
   "source": [
    "### Exercice 7 :\n",
    "Lisez au clavier un nombre réel nommé `r`. Ensuite, calculez puis affichez à l'écran pour un cercle de rayon `r` la valeur du perimètre ($2\\pi r$) et de l'aire ($\\pi r^2$). L'affichage devra se faire avec 3 chiffres après la virgule.\n"
   ]
  },
  {
   "cell_type": "code",
   "execution_count": null,
   "metadata": {
    "collapsed": false
   },
   "outputs": [],
   "source": [
    "from math import pi, pow\n",
    "\n",
    "# A compléter"
   ]
  },
  {
   "cell_type": "markdown",
   "metadata": {
    "collapsed": true
   },
   "source": [
    "## Partie 2 : Gestion des types `tuples`, `list` et `dict`\n",
    "\n",
    "Le python possède plusieurs types permettant la gestion d'informations structurées.\n",
    "\n",
    "### Les tuples : \n",
    "\n",
    "> Documentation: https://docs.python.org/3.6/tutorial/datastructures.html#tuples-and-sequences\n",
    "\n",
    "`jours = ('Lundi','Mardi','Mercredi','Jeudi','Vendredi','Samedi','Dimanche')`\n",
    "    \n",
    "* Le contenu d'un tuple n'est pas modifiable. \n",
    "* L'accès à un élement particulier d'un tuple s'obtient en spécifiant l'index de l'élement: `jours[0]`\n",
    "    \n",
    "    \n",
    "### Les listes :\n",
    "\n",
    "> Documentation: https://docs.python.org/3.6/tutorial/datastructures.html#more-on-lists\n",
    "\n",
    "`couleurs = ['Rouge','Vert','Bleu']` \n",
    " \n",
    "* Le contenu d'une liste est modifiable (voir documentation).\n",
    "* L'accès à un élement particulier d'une liste s'obtient en spécifiant l'index de l'élement: `couleurs[0]`\n",
    "\n",
    "\n",
    "### Les dictionnaires :\n",
    "\n",
    "> Documentation: https://docs.python.org/3.6/tutorial/datastructures.html#dictionaries\n",
    "\n",
    "`etudiant = {'nom': 'Moulin', 'prenom': 'Jean','age':44,'naissance':'20 juin 1899','diplome': 'SARII'}`\n",
    "\n",
    "* Le contenu d'un dictionnaire est modifiable (voir documentation).\n",
    "* L'accès à un élement particulier d'un dictionnaire s'obtient en spécifiant la clé: `nom = etudiant['nom']`\n",
    "\n",
    "    "
   ]
  },
  {
   "cell_type": "markdown",
   "metadata": {
    "collapsed": true
   },
   "source": [
    "### Exercice 8 :\n",
    "\n",
    "Créez un tuple nommé `mois` contenant les 12 mois de l'année. Affichez ensuite, à partir du contenu du tuple:\n",
    "\n",
    "* le nombre de mois\n",
    "* le 5ieme mois de l'année (c-a-d le mois de mai)"
   ]
  },
  {
   "cell_type": "code",
   "execution_count": null,
   "metadata": {
    "collapsed": false
   },
   "outputs": [],
   "source": [
    "# A compléter"
   ]
  },
  {
   "cell_type": "markdown",
   "metadata": {},
   "source": [
    "### Exercice 9.a :\n",
    "\n",
    "Créez une liste contenant 7 prénoms. Affichez ensuite les 5 premiers prénoms avec un seul `print`.\n"
   ]
  },
  {
   "cell_type": "code",
   "execution_count": null,
   "metadata": {
    "collapsed": false
   },
   "outputs": [],
   "source": [
    "# A compléter"
   ]
  },
  {
   "cell_type": "markdown",
   "metadata": {},
   "source": [
    "### Exercice 9.b :\n",
    "\n",
    "Dans la liste précédente, supprimez le premier prénom puis ajoutez en fin de liste le prénom \"Donald\". Affichez ensuite le contenu de la liste\n"
   ]
  },
  {
   "cell_type": "code",
   "execution_count": null,
   "metadata": {
    "collapsed": false
   },
   "outputs": [],
   "source": [
    "# A compléter"
   ]
  },
  {
   "cell_type": "markdown",
   "metadata": {},
   "source": [
    "### Exercice 10.a :\n",
    "\n",
    "Créez un dictionnaire nommé **`profil`** contenant :\n",
    "* une clé **`nom`** ayant pour valeur votre nom\n",
    "* une clé **`prenom`** ayant pour valeur votre prénom\n",
    "* une clé **`age`** ayant pour valeur votre age\n",
    "* une clé **`code`** ayant pour valeur le code de votre carte bleue.\n",
    "\n",
    "Ensuite, affichez pour la variable **`profil`** les valeurs associées aux clés **`nom`** et **`prenom`** avec un seul **`print`**.\n",
    "\n"
   ]
  },
  {
   "cell_type": "code",
   "execution_count": null,
   "metadata": {
    "collapsed": false
   },
   "outputs": [],
   "source": [
    "# A compléter"
   ]
  },
  {
   "cell_type": "markdown",
   "metadata": {},
   "source": [
    "### Exercice 10.b :\n"
   ]
  },
  {
   "cell_type": "markdown",
   "metadata": {},
   "source": [
    "Dans le dictionnaire précédent, ajoutez :\n",
    "\n",
    "* une clé **`num_id`** ayant pour valeur votre numéro étudiant.\n",
    "* une clé **`email`** ayant pour valeur votre email.\n",
    "\n",
    "Ensuite, affichez pour le dictionnaire **`profil`** les valeurs associées aux clés **`nom`**, **`prenom`** et **`email`** avec un seul **`print()`**\n"
   ]
  },
  {
   "cell_type": "code",
   "execution_count": null,
   "metadata": {
    "collapsed": false
   },
   "outputs": [],
   "source": [
    "# A compléter"
   ]
  },
  {
   "cell_type": "markdown",
   "metadata": {},
   "source": [
    "## Partie 3 : Structures de contrôle\n",
    "\n",
    "> Cours: https://vincentchoqueuse.gitbooks.io/gitbook-python/content/chapter3.html\n",
    "\n",
    "> Documentation: https://docs.python.org/3/tutorial/controlflow.html"
   ]
  },
  {
   "cell_type": "markdown",
   "metadata": {},
   "source": [
    "### Exercice 11 : \n",
    "\n",
    "Lisez un nombre entier **`nb`** au clavier puis affichez à l'écran si ce nombre est supérieur ou égal à 10 ou bien inferieur à 10 ?"
   ]
  },
  {
   "cell_type": "code",
   "execution_count": null,
   "metadata": {
    "collapsed": false
   },
   "outputs": [],
   "source": [
    "# A compléter"
   ]
  },
  {
   "cell_type": "markdown",
   "metadata": {},
   "source": [
    "### Exercice 12 :\n",
    "\n",
    "Affichez à l'écran tous les nombres pairs compris entre 0 et 50 (exclu)"
   ]
  },
  {
   "cell_type": "code",
   "execution_count": null,
   "metadata": {
    "collapsed": false
   },
   "outputs": [],
   "source": [
    "# A compléter"
   ]
  },
  {
   "cell_type": "markdown",
   "metadata": {},
   "source": [
    "### Exercice 13 :\n",
    "\n",
    "Calculez puis affichez le résultat de la somme arithmétique : `S=1+2+...+N` avec `N = 10`."
   ]
  },
  {
   "cell_type": "code",
   "execution_count": 1,
   "metadata": {
    "collapsed": false
   },
   "outputs": [
    {
     "name": "stdout",
     "output_type": "stream",
     "text": [
      "Somme arithmétique : 55\n"
     ]
    }
   ],
   "source": [
    "N = 10\n",
    "\n",
    "# A compléter"
   ]
  },
  {
   "cell_type": "markdown",
   "metadata": {},
   "source": [
    "### Exercice 14 :\n",
    "\n",
    "Creez un programme demandant à l'utilisateur de tapper au clavier la chaine de caractères **`i love python`**. Le programme devra boucler jusqu'à ce que l'utilisateur rentre la bonne chaine de caractères."
   ]
  },
  {
   "cell_type": "code",
   "execution_count": null,
   "metadata": {
    "collapsed": false
   },
   "outputs": [],
   "source": [
    "# A compléter"
   ]
  },
  {
   "cell_type": "markdown",
   "metadata": {},
   "source": [
    "## Partie 4 : Logiciel de gestion de notes.\n",
    "\n",
    "Dans cette partie, vous allez concevoir un logiciel de gestion de notes. Pour chaque élève, nous allons créer un dictionnaire avec :\n",
    "\n",
    "* une clé **`nom`** avec le nom de l'élève\n",
    "* une clé **`prenom`** avec le prénom de l'élève\n",
    "* une clé **`note`** avec la note de l'élève.\n",
    "\n",
    "La classe est composée de 5 élèves (toute ressemblance avec des personnes existantes ou ayant existé est purement fortuite :) ):\n",
    "\n",
    "nom | prenom | note\n",
    "--- | --- | --- \n",
    "Le Roy | Joey| 19\n",
    "Quimerc'h | Yannick | 3.25\n",
    "Samboula | Dorian | 13.5\n",
    "Courte | Maxime | 9.75\n",
    "Le Bouedec | Lea | 10.25"
   ]
  },
  {
   "cell_type": "markdown",
   "metadata": {},
   "source": [
    "### Exercice 15.a :\n",
    "\n",
    "Créez un programme permettant de déclarer une variable de type liste nommée **`notes`** contenant vos 5 dictionnaires :"
   ]
  },
  {
   "cell_type": "code",
   "execution_count": null,
   "metadata": {
    "collapsed": false
   },
   "outputs": [],
   "source": [
    "# A completer"
   ]
  },
  {
   "cell_type": "markdown",
   "metadata": {},
   "source": [
    "### Exercice 15.b :\n",
    "\n",
    "Affichez à l'écran à partir du contenu de la variable **notes** le nom, le prenom et la note du 2ieme élève (c-a-d Yannick)"
   ]
  },
  {
   "cell_type": "code",
   "execution_count": null,
   "metadata": {
    "collapsed": false
   },
   "outputs": [],
   "source": [
    "# A completer"
   ]
  },
  {
   "cell_type": "markdown",
   "metadata": {},
   "source": [
    "### Exercice 15.c :\n",
    "\n",
    "Affichez à l'écran à partir du contenu de la variable **notes** les noms, prenoms et notes des 5 élèves."
   ]
  },
  {
   "cell_type": "code",
   "execution_count": null,
   "metadata": {
    "collapsed": false
   },
   "outputs": [],
   "source": [
    "# A completer"
   ]
  },
  {
   "cell_type": "markdown",
   "metadata": {},
   "source": [
    "### Exercice 15.d :\n",
    "\n",
    "Affichez à l'écran à partir du contenu de la variable **`notes`** les noms et prénoms des élèves recallés (c-a-d ayant une note < 10)"
   ]
  },
  {
   "cell_type": "code",
   "execution_count": null,
   "metadata": {
    "collapsed": false
   },
   "outputs": [],
   "source": [
    "# A completer"
   ]
  },
  {
   "cell_type": "markdown",
   "metadata": {},
   "source": [
    "### Exercice 15.e :\n",
    "\n",
    "Calculez, puis affichez à l'écran la moyenne de la classe."
   ]
  },
  {
   "cell_type": "code",
   "execution_count": null,
   "metadata": {
    "collapsed": false
   },
   "outputs": [],
   "source": [
    "# A completer"
   ]
  },
  {
   "cell_type": "markdown",
   "metadata": {},
   "source": [
    "### Exercice 15.f :\n",
    "\n",
    "A partir du contenu de la variable **`notes`**, déterminez le major de la promo puis affichez à l'écran son nom, son prénom et sa note.\n"
   ]
  },
  {
   "cell_type": "code",
   "execution_count": null,
   "metadata": {
    "collapsed": false
   },
   "outputs": [],
   "source": [
    "# A completer"
   ]
  }
 ],
 "metadata": {
  "anaconda-cloud": {},
  "kernelspec": {
   "display_name": "Python [default]",
   "language": "python",
   "name": "python3"
  },
  "language_info": {
   "codemirror_mode": {
    "name": "ipython",
    "version": 3
   },
   "file_extension": ".py",
   "mimetype": "text/x-python",
   "name": "python",
   "nbconvert_exporter": "python",
   "pygments_lexer": "ipython3",
   "version": "3.4.5"
  }
 },
 "nbformat": 4,
 "nbformat_minor": 1
}
